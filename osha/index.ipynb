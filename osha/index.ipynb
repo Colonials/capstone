{
 "metadata": {
  "name": "",
  "signature": "sha256:5026b985ff86514d3dc11feebfeebcb0c8e0c8cfbc28901d9f765024896d4d65"
 },
 "nbformat": 3,
 "nbformat_minor": 0,
 "worksheets": [
  {
   "cells": [
    {
     "cell_type": "heading",
     "level": 1,
     "metadata": {},
     "source": [
      "Team Colonials"
     ]
    },
    {
     "cell_type": "heading",
     "level": 2,
     "metadata": {},
     "source": [
      "Final Project Presentation\n",
      "\n",
      "\n",
      "\n"
     ]
    },
    {
     "cell_type": "heading",
     "level": 3,
     "metadata": {},
     "source": [
      "Awilda Lopez, Bala Venkatesan, Faith Bradley, Rebecca Bilbro"
     ]
    },
    {
     "cell_type": "heading",
     "level": 6,
     "metadata": {},
     "source": [
      "Cohort 2, Fall 2014\n",
      "\n"
     ]
    },
    {
     "cell_type": "heading",
     "level": 2,
     "metadata": {},
     "source": [
      "The Problem:"
     ]
    },
    {
     "cell_type": "heading",
     "level": 6,
     "metadata": {},
     "source": [
      "In the first three decades after OSHA was created in 1971, workplace fatalities dropped more than 65%, even as US employment doubled. Now worker deaths are down from about 38 a day in 1970 to 12 a day in 2013. \n",
      "\n",
      "But we've hit a plateau.\n",
      "\n",
      "OSHA's budget is small and not likely to increase. The agency can only do so much outreach, training, enforcement, and standard-setting. \n",
      "\n",
      "How can the agency make the most of its limited resources? "
     ]
    },
    {
     "cell_type": "heading",
     "level": 2,
     "metadata": {},
     "source": [
      "The Goal:"
     ]
    },
    {
     "cell_type": "heading",
     "level": 6,
     "metadata": {},
     "source": [
      "Use OSHA data to build a tool that will help the agency develop targeting schemas for outreach, training, enforcement, and regulation."
     ]
    },
    {
     "cell_type": "heading",
     "level": 2,
     "metadata": {},
     "source": [
      "The Hypotheses:"
     ]
    },
    {
     "cell_type": "heading",
     "level": 5,
     "metadata": {},
     "source": [
      "1. Time of year - Are many of the most hazardous jobs seasonal?\n"
     ]
    },
    {
     "cell_type": "heading",
     "level": 6,
     "metadata": {},
     "source": [
      "2. Industries are changing - As hazards decrease in some traditional industries (e.g. traditional manufacturing), are more workers  being killed in new industries (e.g. green energy)?\n"
     ]
    },
    {
     "cell_type": "heading",
     "level": 6,
     "metadata": {},
     "source": [
      "3. Impact of the recession -  Are there fewer fatalities in construction because of the housing market collapse? Has the recession depressed the number of worker fatalities, artificially diminishing the impact of hazardous workplaces?\n"
     ]
    },
    {
     "cell_type": "heading",
     "level": 6,
     "metadata": {},
     "source": [
      "4. Variation by state or area - Maybe fewer workers are being now killed in State X while more workers are being killed in State Y? \n"
     ]
    },
    {
     "cell_type": "heading",
     "level": 2,
     "metadata": {},
     "source": [
      "The Data: "
     ]
    },
    {
     "cell_type": "markdown",
     "metadata": {},
     "source": [
      "The primary data sources are the OSHA website (http://www.osha.gov) and the Department of Labor Enforcement Data Catalog (http://ogesdw.dol.gov/)."
     ]
    },
    {
     "cell_type": "code",
     "collapsed": false,
     "input": [
      "import numpy as np\n",
      "import pandas as pd\n",
      "import matplotlib.pyplot as plt\n",
      "import statsmodels.formula.api as sm\n",
      "from sklearn.linear_model import LinearRegression\n",
      "from scipy import stats\n",
      "%matplotlib inline"
     ],
     "language": "python",
     "metadata": {},
     "outputs": [],
     "prompt_number": 7
    },
    {
     "cell_type": "markdown",
     "metadata": {},
     "source": [
      "What does the dataset look like?"
     ]
    },
    {
     "cell_type": "code",
     "collapsed": false,
     "input": [
      "oshadata = pd.read_csv(\"../data/incidents_by_state.csv\", low_memory=False)\n",
      "oshadata[:5]"
     ],
     "language": "python",
     "metadata": {},
     "outputs": [
      {
       "html": [
        "<div style=\"max-height:1000px;max-width:1500px;overflow:auto;\">\n",
        "<table border=\"1\" class=\"dataframe\">\n",
        "  <thead>\n",
        "    <tr style=\"text-align: right;\">\n",
        "      <th></th>\n",
        "      <th>event_date</th>\n",
        "      <th>state</th>\n",
        "      <th>area_office</th>\n",
        "      <th>fatality</th>\n",
        "      <th>industry_code</th>\n",
        "      <th>description</th>\n",
        "      <th>keywords</th>\n",
        "      <th>summary_nr</th>\n",
        "    </tr>\n",
        "  </thead>\n",
        "  <tbody>\n",
        "    <tr>\n",
        "      <th>0</th>\n",
        "      <td> 1972-09-21</td>\n",
        "      <td>          UTAH</td>\n",
        "      <td> 854910</td>\n",
        "      <td>  NaN</td>\n",
        "      <td> 7359</td>\n",
        "      <td> Employee suffers partial thumb amputation in t...</td>\n",
        "      <td>    SLIP,TABLE SAW,AMPUTATED,THUMB,GUARD,BLADE,SAW</td>\n",
        "      <td> 170683817</td>\n",
        "    </tr>\n",
        "    <tr>\n",
        "      <th>1</th>\n",
        "      <td> 1973-03-08</td>\n",
        "      <td>          OHIO</td>\n",
        "      <td> 524700</td>\n",
        "      <td> True</td>\n",
        "      <td> 3444</td>\n",
        "      <td>    Employee fatally crushed by falling automobile</td>\n",
        "      <td> CRUSHED,STRUCK BY,FALLING OBJECT,AUTOMOBILE,BO...</td>\n",
        "      <td>  14514202</td>\n",
        "    </tr>\n",
        "    <tr>\n",
        "      <th>2</th>\n",
        "      <td> 1973-06-06</td>\n",
        "      <td> WEST VIRGINIA</td>\n",
        "      <td> 316400</td>\n",
        "      <td> True</td>\n",
        "      <td> 3334</td>\n",
        "      <td>   Employee killed while dismantling crane gearbox</td>\n",
        "      <td> DISMANTLING,CRANE,STRUCK BY,FALL,CRUSHED,UNTRA...</td>\n",
        "      <td>  14481709</td>\n",
        "    </tr>\n",
        "    <tr>\n",
        "      <th>3</th>\n",
        "      <td> 1974-07-16</td>\n",
        "      <td>         TEXAS</td>\n",
        "      <td> 627400</td>\n",
        "      <td> True</td>\n",
        "      <td> 1381</td>\n",
        "      <td> One employee killed, two injured when struck b...</td>\n",
        "      <td> OIL WELL DRILLING,TONGS,STRUCK BY,HAND TOOL,FL...</td>\n",
        "      <td>  14413066</td>\n",
        "    </tr>\n",
        "    <tr>\n",
        "      <th>4</th>\n",
        "      <td> 1974-07-16</td>\n",
        "      <td>         TEXAS</td>\n",
        "      <td> 627400</td>\n",
        "      <td> True</td>\n",
        "      <td> 1381</td>\n",
        "      <td>             Employee killed in trailer house fire</td>\n",
        "      <td> FIRE,BURN,SMOKING,FLAMMABLE VAPORS,OIL WELL DR...</td>\n",
        "      <td>  14413074</td>\n",
        "    </tr>\n",
        "  </tbody>\n",
        "</table>\n",
        "</div>"
       ],
       "metadata": {},
       "output_type": "pyout",
       "prompt_number": 8,
       "text": [
        "   event_date          state  area_office fatality industry_code  \\\n",
        "0  1972-09-21           UTAH       854910      NaN          7359   \n",
        "1  1973-03-08           OHIO       524700     True          3444   \n",
        "2  1973-06-06  WEST VIRGINIA       316400     True          3334   \n",
        "3  1974-07-16          TEXAS       627400     True          1381   \n",
        "4  1974-07-16          TEXAS       627400     True          1381   \n",
        "\n",
        "                                         description  \\\n",
        "0  Employee suffers partial thumb amputation in t...   \n",
        "1     Employee fatally crushed by falling automobile   \n",
        "2    Employee killed while dismantling crane gearbox   \n",
        "3  One employee killed, two injured when struck b...   \n",
        "4              Employee killed in trailer house fire   \n",
        "\n",
        "                                            keywords  summary_nr  \n",
        "0     SLIP,TABLE SAW,AMPUTATED,THUMB,GUARD,BLADE,SAW   170683817  \n",
        "1  CRUSHED,STRUCK BY,FALLING OBJECT,AUTOMOBILE,BO...    14514202  \n",
        "2  DISMANTLING,CRANE,STRUCK BY,FALL,CRUSHED,UNTRA...    14481709  \n",
        "3  OIL WELL DRILLING,TONGS,STRUCK BY,HAND TOOL,FL...    14413066  \n",
        "4  FIRE,BURN,SMOKING,FLAMMABLE VAPORS,OIL WELL DR...    14413074  "
       ]
      }
     ],
     "prompt_number": 8
    },
    {
     "cell_type": "markdown",
     "metadata": {},
     "source": [
      "Yeah, but what does it LOOK like? Let's check out a visualization of these incidents as a time series."
     ]
    },
    {
     "cell_type": "code",
     "collapsed": false,
     "input": [
      "df = pd.DataFrame.from_csv(\"../data/incident_totals_year.csv\", parse_dates=False)\n",
      "df.osha_incidents.plot(color='r',lw=1.3)\n",
      "plt.title('Workplace Fatalities and Catastrophes by Year')\n",
      "plt.xlabel(\"1983-2012\")\n",
      "plt.ylabel(\"Fatal/Catastrophic Incidents\")\n",
      "plt.show()"
     ],
     "language": "python",
     "metadata": {},
     "outputs": [
      {
       "metadata": {},
       "output_type": "display_data",
       "png": "[encoded data removed]",
       "text": [
        "<matplotlib.figure.Figure at 0x10e30f250>"
       ]
      }
     ],
     "prompt_number": 9
    },
    {
     "cell_type": "markdown",
     "metadata": {},
     "source": [
      "It turns out that, because of irregularities in the way that these reports were logged before 1990, we should ignore what appears to be a trend in volume from 1983-1990. We know from the Bureau of Labor Statistics that there were actually more like 10,000 fatalities per year during that period. The graph also suggests that fatal events trail off after 2009, but it turns our that this is due to data maturation issues. BLS reports show that the number of fatal workplace incidents has been fairly steady at around 4,500 per year since 2010. So let's do a histogram to see the frequency of events by year, but we'll just focus in on 1990-2010"
     ]
    },
    {
     "cell_type": "code",
     "collapsed": false,
     "input": [
      "subset = df.loc[1990:2010]\n",
      "subset.plot(kind='bar', stacked=False)\n",
      "plt.title(\"Frequency of fatalities and catastrophic events by year\")\n",
      "plt.xlabel(\"1990-2010\")\n",
      "plt.ylabel(\"Frequency\")\n",
      "plt.show()"
     ],
     "language": "python",
     "metadata": {},
     "outputs": [
      {
       "metadata": {},
       "output_type": "display_data",
       "png": "[encoded data removed]",
       "text": [
        "<matplotlib.figure.Figure at 0x10a8ba110>"
       ]
      }
     ],
     "prompt_number": 10
    },
    {
     "cell_type": "heading",
     "level": 2,
     "metadata": {},
     "source": [
      "The Analysis:"
     ]
    },
    {
     "cell_type": "heading",
     "level": 3,
     "metadata": {},
     "source": [
      "Hypothesis One (Awilda): Fatalities and catastrophes are likely seasonal, so any increase or decrease over time should correspond to an increase or decrease in extreme weather events."
     ]
    },
    {
     "cell_type": "code",
     "collapsed": false,
     "input": [
      "import pylab as pl\n",
      "import numpy as np\n",
      "\n",
      "datafile = \"../data/osha_month.csv\"\n",
      "csvfile = open(datafile)"
     ],
     "language": "python",
     "metadata": {},
     "outputs": [],
     "prompt_number": 2
    },
    {
     "cell_type": "markdown",
     "metadata": {},
     "source": [
      "Let's start by grouping the data into seasons"
     ]
    },
    {
     "cell_type": "code",
     "collapsed": false,
     "input": [
      "month_list = []\n",
      "fatality_list = []\n",
      "for each_line in csvfile:\n",
      "    list_row = each_line.split(',')\n",
      "    if list_row[0] == 'Month':\n",
      "        continue\n",
      "    month_list.append( list_row[0] )\n",
      "    fatality_list.append( list_row[1] )\n",
      "csvfile.close( )\n",
      "\n",
      "\n",
      "month_dict = {}\n",
      "season_dict = {}\n",
      "for month in month_list:\n",
      "  if month in month_dict:\n",
      "      month_dict[month] = month_dict[month] + 1\n",
      "  else:\n",
      "      month_dict[month] = 1\n",
      "  if   month == \"12\" or month == \"1\" or month == \"2\":\n",
      "      season = \"Winter\"\n",
      "  elif month == \"3\" or month == \"4\" or month == \"5\":\n",
      "      season = \"Spring\"\n",
      "  elif month == \"6\" or month == \"7\" or month == \"8\":\n",
      "      season = \"Summer\"\n",
      "  else:\n",
      "      season = \"Fall\"\n",
      "  if season in season_dict:\n",
      "      season_dict[season] = season_dict[season] + 1\n",
      "  else:\n",
      "      season_dict[season] = 1\n",
      "      \n",
      "\n",
      "month_pct_dict = {}\n",
      "season_pct_dict = {}\n",
      "number_of_month_codes = len( month_list )\n",
      "for month in month_dict:\n",
      "    month_pct_dict[month] = float( month_dict[month] ) / number_of_month_codes * 100\n",
      "for season in season_dict:\n",
      "    season_pct_dict[season] = float( season_dict[season] ) / number_of_month_codes * 100"
     ],
     "language": "python",
     "metadata": {},
     "outputs": [],
     "prompt_number": 3
    },
    {
     "cell_type": "code",
     "collapsed": false,
     "input": [
      "print 'Month Details'\n",
      "print '-------------'\n",
      "for month in sorted(month_pct_dict, key=month_pct_dict.get, reverse=True):\n",
      "    print month, month_dict[month], month_pct_dict[month]"
     ],
     "language": "python",
     "metadata": {},
     "outputs": [
      {
       "output_type": "stream",
       "stream": "stdout",
       "text": [
        "Month Details\n",
        "-------------\n",
        "8 10368 9.89416828102\n",
        "7 10250 9.78156104171\n",
        "10 9866 9.41511036464\n",
        "6 9552 9.11546059224\n",
        "9 9301 8.87593163405\n",
        "5 8638 8.24323163691\n",
        "3 8317 7.93690177404\n",
        "4 8317 7.93690177404\n",
        "11 8064 7.69546421857\n",
        "1 7572 7.22594928857\n",
        "12 7315 6.98069453855\n",
        "2 7229 6.89862485566\n"
       ]
      }
     ],
     "prompt_number": 4
    },
    {
     "cell_type": "code",
     "collapsed": false,
     "input": [
      "print 'Season Details'\n",
      "print '--------------'\n",
      "chart_dict = {}\n",
      "for season in sorted(season_pct_dict, key=season_pct_dict.get, reverse=True):\n",
      "    chart_dict[season] = season_pct_dict[season]\n",
      "    print season, season_dict[season], season_pct_dict[season] "
     ],
     "language": "python",
     "metadata": {},
     "outputs": [
      {
       "output_type": "stream",
       "stream": "stdout",
       "text": [
        "Season Details\n",
        "--------------\n",
        "Summer 30170 28.791189915\n",
        "Fall 27231 25.9865062173\n",
        "Spring 25272 24.117035185\n",
        "Winter 22116 21.1052686828\n"
       ]
      }
     ],
     "prompt_number": 5
    },
    {
     "cell_type": "code",
     "collapsed": false,
     "input": [
      "X = np.arange( len( chart_dict ) )\n",
      "pl.bar(X, chart_dict.values(), align='center', width=0.5)\n",
      "pl.xticks(X, chart_dict.keys())\n",
      "ymax = max( chart_dict.values() ) + 1\n",
      "pl.ylim(0, ymax)\n",
      "pl.show()"
     ],
     "language": "python",
     "metadata": {},
     "outputs": [
      {
       "metadata": {},
       "output_type": "display_data",
       "png": "[encoded data removed]",
       "text": [
        "<matplotlib.figure.Figure at 0x10a05f450>"
       ]
      }
     ],
     "prompt_number": 8
    },
    {
     "cell_type": "heading",
     "level": 3,
     "metadata": {},
     "source": [
      "Hypothesis Two (Faith): As industries change (e.g. from traditional manufacturing to green energy), a plateau in fatalities could mask significant industry-specific decreases and increases over time."
     ]
    },
    {
     "cell_type": "code",
     "collapsed": false,
     "input": [
      "import pylab as pl\n",
      "import numpy as np\n",
      "\n",
      "#Specify Datafile\n",
      "datafile = \"../data/osha_data.csv\"\n",
      "\n",
      "#Open CSV File\n",
      "csvfile = open(datafile)\n",
      "\n",
      "#Initialize List\n",
      "sic_list = []\n",
      "fatality_list = []\n",
      "\n",
      "#Read CSV Records and compile the lists\n",
      "for each_line in csvfile:\n",
      "    list_row = each_line.split(',')\n",
      "    if list_row[0] == 'SIC':\n",
      "        continue\n",
      "    sic_list.append( list_row[0] )\n",
      "    fatality_list.append( list_row[1] )\n",
      "\n",
      "#Close CSV File\n",
      "csvfile.close( )\n",
      "\n",
      "#Initialize Dictionary\n",
      "sic_dict = {}\n",
      "\n",
      "#Count the number of times each SIC code in list \n",
      "for sic in sic_list:\n",
      "  if sic in sic_dict:\n",
      "      sic_dict[sic] = sic_dict[sic] + 1\n",
      "  else:\n",
      "      sic_dict[sic] = 1\n",
      "\n",
      "#Work Out Percentages\n",
      "sic_pct_dict = {}\n",
      "number_of_sic_codes = len( sic_list )\n",
      "for sic in sic_dict:\n",
      "    sic_pct_dict[sic] = float( sic_dict[sic] ) / number_of_sic_codes * 100\n",
      "\n",
      "#Print Out Top 25 SIC Codes Used\n",
      "loop = 0\n",
      "chart_dict = {}\n",
      "for sic in sorted(sic_pct_dict, key=sic_pct_dict.get, reverse=True):\n",
      "    chart_dict[sic] = sic_pct_dict[sic]\n",
      "    print sic, sic_dict[sic], sic_pct_dict[sic] \n",
      "    loop = loop + 1\n",
      "    if loop >= 25:\n",
      "        break\n",
      "\n",
      "#Graph The Top 25 SIC codes used\n",
      "X = np.arange( len( chart_dict ) )\n",
      "pl.bar(X, chart_dict.values(), align='center', width=0.5)\n",
      "pl.xticks(X, chart_dict.keys())\n",
      "ymax = max( chart_dict.values() ) + 1\n",
      "pl.ylim(0, ymax)\n",
      "pl.show()"
     ],
     "language": "python",
     "metadata": {},
     "outputs": [
      {
       "output_type": "stream",
       "stream": "stdout",
       "text": [
        "1761 3528 3.36676559563\n",
        "1623 2913 2.77987193312\n",
        "1731 2737 2.6119153728\n",
        "1799 2411 2.30081401674\n",
        "1751 2341 2.23401311206\n",
        "1611 2284 2.17961808968\n",
        "2411 2157 2.05842216263\n",
        "1791 2144 2.04601628033\n",
        "1542 2002 1.91050587371\n",
        "1711 1907 1.81984750308\n",
        "1521 1715 1.63662216454\n",
        "1629 1494 1.42572216549\n",
        "783 1348 1.28639456431\n",
        "1721 1337 1.27589727929\n",
        "1771 1243 1.1861932073\n",
        "4911 1214 1.15851854679\n",
        "4212 1212 1.15660994952\n",
        "1741 1193 1.13847827539\n",
        "1794 1182 1.12798099037\n",
        "1541 1127 1.07549456527\n",
        "2421 1092 1.04209411293\n",
        "1742 1027 0.980064701448\n",
        "1622 973 0.928532574984\n",
        "1389 914 0.872228955329\n",
        "5093 871 0.831194113886\n"
       ]
      },
      {
       "metadata": {},
       "output_type": "display_data",
       "png": "[encoded data removed]",
       "text": [
        "<matplotlib.figure.Figure at 0x10a04f910>"
       ]
      }
     ],
     "prompt_number": 10
    },
    {
     "cell_type": "heading",
     "level": 3,
     "metadata": {},
     "source": [
      "Hypothesis Three (Bala): The recession and housing market collapse have artificially reduced fatality rates, particularly in certain industries."
     ]
    },
    {
     "cell_type": "code",
     "collapsed": false,
     "input": [
      "import pandas as pd\n",
      "import matplotlib.pyplot as plt\n",
      "import scipy.stats as stats\n",
      "import numpy as np\n",
      "from numpy import corrcoef, sum, log, arange\n",
      "from numpy.random import rand\n",
      "from pylab import pcolor, show, colorbar, xticks, yticks"
     ],
     "language": "python",
     "metadata": {},
     "outputs": [],
     "prompt_number": 12
    },
    {
     "cell_type": "code",
     "collapsed": false,
     "input": [
      "year=['1984','1985','1986','1987','1988','1989','1990','1991','1992','1993','1994','1995',\n",
      "      '1996','1997','1998','1999','2000','2001','2002','2003','2004','2005','2006','2007',\n",
      "      '2008','2009','2010','2011','2012','2013','2014']\n",
      "\n",
      "rates_array = []"
     ],
     "language": "python",
     "metadata": {},
     "outputs": [],
     "prompt_number": 13
    },
    {
     "cell_type": "code",
     "collapsed": false,
     "input": [
      "def unemployment_data():\n",
      "    f = pd.read_csv(\"../data/unemployment_data.csv\")\n",
      "    df = pd.DataFrame(f)\n",
      "    df_mean = df.mean()[0:]\n",
      "    df_rate = pd.DataFrame(data=df_mean, columns=['RATE'])\n",
      "    x = 0\n",
      "    for idx, val in enumerate(df_rate.values):\n",
      "        rates_array.append(float(val))\n",
      "\n",
      "    return df_rate"
     ],
     "language": "python",
     "metadata": {},
     "outputs": [],
     "prompt_number": 14
    },
    {
     "cell_type": "code",
     "collapsed": false,
     "input": [
      "def construction_starts():\n",
      "    construction_file = pd.read_csv(\"../data/construction_starts.csv\")\n",
      "    df = pd.DataFrame(construction_file)\n",
      "    return df"
     ],
     "language": "python",
     "metadata": {},
     "outputs": [],
     "prompt_number": 15
    },
    {
     "cell_type": "code",
     "collapsed": false,
     "input": [
      "def unemployment_construction_correlation():\n",
      "\n",
      "    rates = unemployment_data()\n",
      "    starts = construction_starts()\n",
      "    # calculating Pearson Correlation Coefficient\n",
      "    print stats.pearsonr(starts[\"Total\"], rates_array)\n",
      "\n",
      "    # plotting the graph.\n",
      "\n",
      "    ax = plt.gca()\n",
      "    ax.set_xlabel('Year', fontsize=14, color='b')\n",
      "    ax.set_ylabel('Unemployment', fontsize=11, color='b')\n",
      "    ax.plot(year,rates,color='red')\n",
      "\n",
      "\n",
      "    ax2 = ax.twinx()\n",
      "    ax2.set_ylabel('Construction Starts', fontsize=11, color='b')\n",
      "    ax2.plot(year,starts[\"Total\"],color='blue')\n",
      "    plt.show()\n",
      "\n",
      "\n",
      "    plt.scatter(rates_array, starts[\"Total\"], s=25, c='red', alpha=0.5)\n",
      "    ax3 = plt.gca()\n",
      "    ax3.set_ylabel('Construction Starts', fontsize=11, color='b')\n",
      "    ax3.set_xlabel('Unemployment', fontsize=11, color='r')\n",
      "\n",
      "    ##includes the correlation fit line\n",
      "    m,b = np.polyfit(rates_array, starts[\"Total\"],1)\n",
      "    plt.plot(rates_array, starts[\"Total\"], rates_array, np.array(rates_array) * m + b)\n",
      "    plt.show()\n"
     ],
     "language": "python",
     "metadata": {},
     "outputs": [],
     "prompt_number": 16
    },
    {
     "cell_type": "code",
     "collapsed": false,
     "input": [
      "def run():\n",
      "    unemployment_construction_correlation()"
     ],
     "language": "python",
     "metadata": {},
     "outputs": [],
     "prompt_number": 17
    },
    {
     "cell_type": "code",
     "collapsed": false,
     "input": [
      "if __name__ == '__main__':\n",
      "    run()"
     ],
     "language": "python",
     "metadata": {},
     "outputs": [
      {
       "output_type": "stream",
       "stream": "stdout",
       "text": [
        "(-0.60333102368122793, 0.00032705308523674057)\n"
       ]
      },
      {
       "metadata": {},
       "output_type": "display_data",
       "png": "[encoded data removed]",
       "text": [
        "<matplotlib.figure.Figure at 0x106df7850>"
       ]
      },
      {
       "metadata": {},
       "output_type": "display_data",
       "png": "[encoded data removed]",
       "text": [
        "<matplotlib.figure.Figure at 0x10a8d3690>"
       ]
      }
     ],
     "prompt_number": 18
    },
    {
     "cell_type": "heading",
     "level": 3,
     "metadata": {},
     "source": [
      "Hypothesis Four(Rebecca): The fatality/catastrophe plateau is masking significant increases in certain parts of the country as incidents drop off in other places."
     ]
    },
    {
     "cell_type": "markdown",
     "metadata": {},
     "source": [
      "Start by looking at variations by state"
     ]
    },
    {
     "cell_type": "code",
     "collapsed": false,
     "input": [
      "statedata = pd.read_csv(\"../data/incidents_state_totals.csv\", index_col='state')\n",
      "statedata"
     ],
     "language": "python",
     "metadata": {},
     "outputs": [
      {
       "html": [
        "<div style=\"max-height:1000px;max-width:1500px;overflow:auto;\">\n",
        "<table border=\"1\" class=\"dataframe\">\n",
        "  <thead>\n",
        "    <tr style=\"text-align: right;\">\n",
        "      <th></th>\n",
        "      <th>totals</th>\n",
        "    </tr>\n",
        "    <tr>\n",
        "      <th>state</th>\n",
        "      <th></th>\n",
        "    </tr>\n",
        "  </thead>\n",
        "  <tbody>\n",
        "    <tr>\n",
        "      <th>ALABAMA</th>\n",
        "      <td>  1115</td>\n",
        "    </tr>\n",
        "    <tr>\n",
        "      <th>ALASKA</th>\n",
        "      <td>   446</td>\n",
        "    </tr>\n",
        "    <tr>\n",
        "      <th>ARIZONA</th>\n",
        "      <td>  1307</td>\n",
        "    </tr>\n",
        "    <tr>\n",
        "      <th>ARKANSAS</th>\n",
        "      <td>   722</td>\n",
        "    </tr>\n",
        "    <tr>\n",
        "      <th>CALIFORNIA</th>\n",
        "      <td> 38477</td>\n",
        "    </tr>\n",
        "    <tr>\n",
        "      <th>COLORADO</th>\n",
        "      <td>   848</td>\n",
        "    </tr>\n",
        "    <tr>\n",
        "      <th>CONNECTICUT</th>\n",
        "      <td>  1065</td>\n",
        "    </tr>\n",
        "    <tr>\n",
        "      <th>DELAWARE</th>\n",
        "      <td>   125</td>\n",
        "    </tr>\n",
        "    <tr>\n",
        "      <th>DISTRICT OF COLUMBIA</th>\n",
        "      <td>    33</td>\n",
        "    </tr>\n",
        "    <tr>\n",
        "      <th>FLORIDA</th>\n",
        "      <td>  3225</td>\n",
        "    </tr>\n",
        "    <tr>\n",
        "      <th>GEORGIA</th>\n",
        "      <td>  1828</td>\n",
        "    </tr>\n",
        "    <tr>\n",
        "      <th>HAWAII</th>\n",
        "      <td>   395</td>\n",
        "    </tr>\n",
        "    <tr>\n",
        "      <th>IDAHO</th>\n",
        "      <td>   417</td>\n",
        "    </tr>\n",
        "    <tr>\n",
        "      <th>ILLINOIS</th>\n",
        "      <td>  2553</td>\n",
        "    </tr>\n",
        "    <tr>\n",
        "      <th>INDIANA</th>\n",
        "      <td>  1724</td>\n",
        "    </tr>\n",
        "    <tr>\n",
        "      <th>IOWA</th>\n",
        "      <td>  1779</td>\n",
        "    </tr>\n",
        "    <tr>\n",
        "      <th>KANSAS</th>\n",
        "      <td>  1396</td>\n",
        "    </tr>\n",
        "    <tr>\n",
        "      <th>KENTUCKY</th>\n",
        "      <td>  1029</td>\n",
        "    </tr>\n",
        "    <tr>\n",
        "      <th>LOUISIANA</th>\n",
        "      <td>  1257</td>\n",
        "    </tr>\n",
        "    <tr>\n",
        "      <th>MAINE</th>\n",
        "      <td>   274</td>\n",
        "    </tr>\n",
        "    <tr>\n",
        "      <th>MARYLAND</th>\n",
        "      <td>  3908</td>\n",
        "    </tr>\n",
        "    <tr>\n",
        "      <th>MASSACHUSETTS</th>\n",
        "      <td>  1491</td>\n",
        "    </tr>\n",
        "    <tr>\n",
        "      <th>MICHIGAN</th>\n",
        "      <td>  1485</td>\n",
        "    </tr>\n",
        "    <tr>\n",
        "      <th>MINNESOTA</th>\n",
        "      <td>   885</td>\n",
        "    </tr>\n",
        "    <tr>\n",
        "      <th>MISSISSIPPI</th>\n",
        "      <td>   690</td>\n",
        "    </tr>\n",
        "    <tr>\n",
        "      <th>MISSOURI</th>\n",
        "      <td>   879</td>\n",
        "    </tr>\n",
        "    <tr>\n",
        "      <th>MONTANA</th>\n",
        "      <td>   273</td>\n",
        "    </tr>\n",
        "    <tr>\n",
        "      <th>NEBRASKA</th>\n",
        "      <td>   615</td>\n",
        "    </tr>\n",
        "    <tr>\n",
        "      <th>NEVADA</th>\n",
        "      <td>  1042</td>\n",
        "    </tr>\n",
        "    <tr>\n",
        "      <th>NEW HAMPSHIRE</th>\n",
        "      <td>   386</td>\n",
        "    </tr>\n",
        "    <tr>\n",
        "      <th>NEW JERSEY</th>\n",
        "      <td>  1754</td>\n",
        "    </tr>\n",
        "    <tr>\n",
        "      <th>NEW MEXICO</th>\n",
        "      <td>   350</td>\n",
        "    </tr>\n",
        "    <tr>\n",
        "      <th>NEW YORK</th>\n",
        "      <td>  2928</td>\n",
        "    </tr>\n",
        "    <tr>\n",
        "      <th>NORTH CAROLINA</th>\n",
        "      <td>  2833</td>\n",
        "    </tr>\n",
        "    <tr>\n",
        "      <th>NORTH DAKOTA</th>\n",
        "      <td>   421</td>\n",
        "    </tr>\n",
        "    <tr>\n",
        "      <th>OHIO</th>\n",
        "      <td>  2630</td>\n",
        "    </tr>\n",
        "    <tr>\n",
        "      <th>OKLAHOMA</th>\n",
        "      <td>   768</td>\n",
        "    </tr>\n",
        "    <tr>\n",
        "      <th>OREGON</th>\n",
        "      <td>  4052</td>\n",
        "    </tr>\n",
        "    <tr>\n",
        "      <th>PENNSYLVANIA</th>\n",
        "      <td>  1961</td>\n",
        "    </tr>\n",
        "    <tr>\n",
        "      <th>RHODE ISLAND</th>\n",
        "      <td>   156</td>\n",
        "    </tr>\n",
        "    <tr>\n",
        "      <th>SOUTH CAROLINA</th>\n",
        "      <td>  1591</td>\n",
        "    </tr>\n",
        "    <tr>\n",
        "      <th>SOUTH DAKOTA</th>\n",
        "      <td>     0</td>\n",
        "    </tr>\n",
        "    <tr>\n",
        "      <th>TENNESSEE</th>\n",
        "      <td>  1268</td>\n",
        "    </tr>\n",
        "    <tr>\n",
        "      <th>TEXAS</th>\n",
        "      <td>  4728</td>\n",
        "    </tr>\n",
        "    <tr>\n",
        "      <th>UTAH</th>\n",
        "      <td>  1580</td>\n",
        "    </tr>\n",
        "    <tr>\n",
        "      <th>VERMONT</th>\n",
        "      <td>   159</td>\n",
        "    </tr>\n",
        "    <tr>\n",
        "      <th>VIRGINIA</th>\n",
        "      <td>  2402</td>\n",
        "    </tr>\n",
        "    <tr>\n",
        "      <th>WASHINGTON</th>\n",
        "      <td>  2173</td>\n",
        "    </tr>\n",
        "    <tr>\n",
        "      <th>WEST VIRGINIA</th>\n",
        "      <td>   440</td>\n",
        "    </tr>\n",
        "    <tr>\n",
        "      <th>WISCONSIN</th>\n",
        "      <td>  1167</td>\n",
        "    </tr>\n",
        "    <tr>\n",
        "      <th>WYOMING</th>\n",
        "      <td>   276</td>\n",
        "    </tr>\n",
        "  </tbody>\n",
        "</table>\n",
        "</div>"
       ],
       "metadata": {},
       "output_type": "pyout",
       "prompt_number": 93,
       "text": [
        "                      totals\n",
        "state                       \n",
        "ALABAMA                 1115\n",
        "ALASKA                   446\n",
        "ARIZONA                 1307\n",
        "ARKANSAS                 722\n",
        "CALIFORNIA             38477\n",
        "COLORADO                 848\n",
        "CONNECTICUT             1065\n",
        "DELAWARE                 125\n",
        "DISTRICT OF COLUMBIA      33\n",
        "FLORIDA                 3225\n",
        "GEORGIA                 1828\n",
        "HAWAII                   395\n",
        "IDAHO                    417\n",
        "ILLINOIS                2553\n",
        "INDIANA                 1724\n",
        "IOWA                    1779\n",
        "KANSAS                  1396\n",
        "KENTUCKY                1029\n",
        "LOUISIANA               1257\n",
        "MAINE                    274\n",
        "MARYLAND                3908\n",
        "MASSACHUSETTS           1491\n",
        "MICHIGAN                1485\n",
        "MINNESOTA                885\n",
        "MISSISSIPPI              690\n",
        "MISSOURI                 879\n",
        "MONTANA                  273\n",
        "NEBRASKA                 615\n",
        "NEVADA                  1042\n",
        "NEW HAMPSHIRE            386\n",
        "NEW JERSEY              1754\n",
        "NEW MEXICO               350\n",
        "NEW YORK                2928\n",
        "NORTH CAROLINA          2833\n",
        "NORTH DAKOTA             421\n",
        "OHIO                    2630\n",
        "OKLAHOMA                 768\n",
        "OREGON                  4052\n",
        "PENNSYLVANIA            1961\n",
        "RHODE ISLAND             156\n",
        "SOUTH CAROLINA          1591\n",
        "SOUTH DAKOTA               0\n",
        "TENNESSEE               1268\n",
        "TEXAS                   4728\n",
        "UTAH                    1580\n",
        "VERMONT                  159\n",
        "VIRGINIA                2402\n",
        "WASHINGTON              2173\n",
        "WEST VIRGINIA            440\n",
        "WISCONSIN               1167\n",
        "WYOMING                  276"
       ]
      }
     ],
     "prompt_number": 93
    },
    {
     "cell_type": "code",
     "collapsed": false,
     "input": [
      "statedata.plot(kind='bar', stacked=False, figsize=(16, 4))\n",
      "plt.title(\"Frequency of fatalities and catastrophic events by state\")\n",
      "plt.xlabel(\"United States\")\n",
      "plt.ylabel(\"Frequency\")\n",
      "plt.show()"
     ],
     "language": "python",
     "metadata": {},
     "outputs": [
      {
       "metadata": {},
       "output_type": "display_data",
       "png": "[encoded data removed]",
       "text": [
        "<matplotlib.figure.Figure at 0x10af58810>"
       ]
      }
     ],
     "prompt_number": 98
    },
    {
     "cell_type": "markdown",
     "metadata": {},
     "source": [
      "California and South Dakota are outliers. Look at just at the other 48 states."
     ]
    },
    {
     "cell_type": "code",
     "collapsed": false,
     "input": [
      "fifty = pd.DataFrame(statedata)\n",
      "fifty = fifty[np.abs(fifty.totals-fifty.totals.mean())<=(3*fifty.totals.std())] "
     ],
     "language": "python",
     "metadata": {},
     "outputs": [],
     "prompt_number": 109
    },
    {
     "cell_type": "code",
     "collapsed": false,
     "input": [
      "fifty.plot(kind='bar', stacked=False, figsize=(16, 4))\n",
      "plt.title(\"Frequency of fatalities and catastrophic events by state (except CA)\")\n",
      "plt.xlabel(\"United States\")\n",
      "plt.ylabel(\"Frequency\")\n",
      "plt.show()"
     ],
     "language": "python",
     "metadata": {},
     "outputs": [
      {
       "metadata": {},
       "output_type": "display_data",
       "png": "[encoded data removed]",
       "text": [
        "<matplotlib.figure.Figure at 0x10af5f2d0>"
       ]
      }
     ],
     "prompt_number": 110
    },
    {
     "cell_type": "markdown",
     "metadata": {},
     "source": [
      "Now let's look at how things have changed over time on a state-level."
     ]
    },
    {
     "cell_type": "code",
     "collapsed": false,
     "input": [
      "statehistory=pd.read_csv(\"../data/incidents_year_state.csv\", index_col='event_date')\n",
      "history=pd.DataFrame(statehistory)\n",
      "history[:5]"
     ],
     "language": "python",
     "metadata": {},
     "outputs": [
      {
       "html": [
        "<div style=\"max-height:1000px;max-width:1500px;overflow:auto;\">\n",
        "<table border=\"1\" class=\"dataframe\">\n",
        "  <thead>\n",
        "    <tr style=\"text-align: right;\">\n",
        "      <th></th>\n",
        "      <th>state</th>\n",
        "      <th>report_id</th>\n",
        "      <th>summary_nr</th>\n",
        "      <th>event_desc</th>\n",
        "      <th>event_keyword</th>\n",
        "      <th>fatality</th>\n",
        "      <th>sic_list</th>\n",
        "    </tr>\n",
        "    <tr>\n",
        "      <th>event_date</th>\n",
        "      <th></th>\n",
        "      <th></th>\n",
        "      <th></th>\n",
        "      <th></th>\n",
        "      <th></th>\n",
        "      <th></th>\n",
        "      <th></th>\n",
        "    </tr>\n",
        "  </thead>\n",
        "  <tbody>\n",
        "    <tr>\n",
        "      <th>1990-07-13</th>\n",
        "      <td> ALABAMA</td>\n",
        "      <td> 418300</td>\n",
        "      <td> 593681</td>\n",
        "      <td>     Employee falls, dies of massive head injuries</td>\n",
        "      <td>                            FALL,STORAGE RACK,HEAD</td>\n",
        "      <td> True</td>\n",
        "      <td> 4213</td>\n",
        "    </tr>\n",
        "    <tr>\n",
        "      <th>1991-08-27</th>\n",
        "      <td> ALABAMA</td>\n",
        "      <td> 418300</td>\n",
        "      <td> 602524</td>\n",
        "      <td> ELECTRIC SHOCK - DIRECT CONTACT WITH ENERGIZED...</td>\n",
        "      <td> ELECTRICAL,ELECTROCUTED,RUNWAY CONDUCTOR,ELECT...</td>\n",
        "      <td> True</td>\n",
        "      <td> 3471</td>\n",
        "    </tr>\n",
        "    <tr>\n",
        "      <th>1991-09-17</th>\n",
        "      <td> ALABAMA</td>\n",
        "      <td> 418300</td>\n",
        "      <td> 602532</td>\n",
        "      <td> Employee is run over and killed by runaway loader</td>\n",
        "      <td> RUN OVER,FRONT END LOADER,LOST CONTROL,CONSTRU...</td>\n",
        "      <td> True</td>\n",
        "      <td> 1794</td>\n",
        "    </tr>\n",
        "    <tr>\n",
        "      <th>1991-08-28</th>\n",
        "      <td> ALABAMA</td>\n",
        "      <td> 418300</td>\n",
        "      <td> 602540</td>\n",
        "      <td>      CONSTRUCTION EMPLOYEE KILLED IN A FLASH FIRE</td>\n",
        "      <td> CONSTRUCTION,FIRE,BURN,FLAMMABLE VAPORS,NAPHTH...</td>\n",
        "      <td> True</td>\n",
        "      <td> 1752</td>\n",
        "    </tr>\n",
        "    <tr>\n",
        "      <th>1991-09-26</th>\n",
        "      <td> ALABAMA</td>\n",
        "      <td> 418300</td>\n",
        "      <td> 602565</td>\n",
        "      <td> Employee killed, others exposed to CO2 during ...</td>\n",
        "      <td>                  CARBON DIOXIDE,OVEREXPOSURE,FIRE</td>\n",
        "      <td> True</td>\n",
        "      <td> 1540</td>\n",
        "    </tr>\n",
        "  </tbody>\n",
        "</table>\n",
        "</div>"
       ],
       "metadata": {},
       "output_type": "pyout",
       "prompt_number": 115,
       "text": [
        "              state  report_id  summary_nr  \\\n",
        "event_date                                   \n",
        "1990-07-13  ALABAMA     418300      593681   \n",
        "1991-08-27  ALABAMA     418300      602524   \n",
        "1991-09-17  ALABAMA     418300      602532   \n",
        "1991-08-28  ALABAMA     418300      602540   \n",
        "1991-09-26  ALABAMA     418300      602565   \n",
        "\n",
        "                                                   event_desc  \\\n",
        "event_date                                                      \n",
        "1990-07-13      Employee falls, dies of massive head injuries   \n",
        "1991-08-27  ELECTRIC SHOCK - DIRECT CONTACT WITH ENERGIZED...   \n",
        "1991-09-17  Employee is run over and killed by runaway loader   \n",
        "1991-08-28       CONSTRUCTION EMPLOYEE KILLED IN A FLASH FIRE   \n",
        "1991-09-26  Employee killed, others exposed to CO2 during ...   \n",
        "\n",
        "                                                event_keyword fatality  \\\n",
        "event_date                                                               \n",
        "1990-07-13                             FALL,STORAGE RACK,HEAD     True   \n",
        "1991-08-27  ELECTRICAL,ELECTROCUTED,RUNWAY CONDUCTOR,ELECT...     True   \n",
        "1991-09-17  RUN OVER,FRONT END LOADER,LOST CONTROL,CONSTRU...     True   \n",
        "1991-08-28  CONSTRUCTION,FIRE,BURN,FLAMMABLE VAPORS,NAPHTH...     True   \n",
        "1991-09-26                   CARBON DIOXIDE,OVEREXPOSURE,FIRE     True   \n",
        "\n",
        "           sic_list  \n",
        "event_date           \n",
        "1990-07-13     4213  \n",
        "1991-08-27     3471  \n",
        "1991-09-17     1794  \n",
        "1991-08-28     1752  \n",
        "1991-09-26     1540  "
       ]
      }
     ],
     "prompt_number": 115
    },
    {
     "cell_type": "markdown",
     "metadata": {},
     "source": [
      "look at CA as time series"
     ]
    },
    {
     "cell_type": "markdown",
     "metadata": {},
     "source": [
      "look at CA by area office histogram"
     ]
    },
    {
     "cell_type": "markdown",
     "metadata": {},
     "source": [
      "take 5 year interval snapshots of non CA area offices to identify movement"
     ]
    },
    {
     "cell_type": "markdown",
     "metadata": {},
     "source": [
      "run pearson correlation test to see if one is increasing as another decreases"
     ]
    },
    {
     "cell_type": "heading",
     "level": 3,
     "metadata": {},
     "source": [
      "The Interpretations:"
     ]
    },
    {
     "cell_type": "markdown",
     "metadata": {},
     "source": [
      "(to be added later)"
     ]
    },
    {
     "cell_type": "heading",
     "level": 3,
     "metadata": {},
     "source": [
      "The Conclusions:"
     ]
    },
    {
     "cell_type": "markdown",
     "metadata": {},
     "source": [
      "(to be added later)"
     ]
    }
   ],
   "metadata": {}
  }
 ]
}