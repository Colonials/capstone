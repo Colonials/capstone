{
 "metadata": {
  "name": "",
  "signature": "sha256:131cb80326c458f04ce387134ab3157b91272853d891b74148a7a7b5b91afb60"
 },
 "nbformat": 3,
 "nbformat_minor": 0,
 "worksheets": [
  {
   "cells": [
    {
     "cell_type": "heading",
     "level": 1,
     "metadata": {},
     "source": [
      "Team Colonials"
     ]
    },
    {
     "cell_type": "heading",
     "level": 2,
     "metadata": {},
     "source": [
      "Final Project Presentation\n",
      "\n",
      "\n",
      "\n"
     ]
    },
    {
     "cell_type": "heading",
     "level": 3,
     "metadata": {},
     "source": [
      "Awilda Lopez, Bala Venkatesan, Faith Bradley, Rebecca Bilbro"
     ]
    },
    {
     "cell_type": "heading",
     "level": 4,
     "metadata": {},
     "source": [
      "Cohort 2, Fall 2014\n",
      "\n"
     ]
    },
    {
     "cell_type": "heading",
     "level": 3,
     "metadata": {},
     "source": [
      "The Problem:"
     ]
    },
    {
     "cell_type": "heading",
     "level": 5,
     "metadata": {},
     "source": [
      "In the first three decades after OSHA was created in 1971, workplace fatalities dropped more than 65%, even as US employment doubled. Now worker deaths are down from about 38 a day in 1970 to 12 a day in 2013. \n",
      "\n",
      "But we've hit a plateau.\n",
      "\n",
      "OSHA's budget is small and not likely to increase. The agency can only do so much outreach, training, enforcement, and standard-setting. \n",
      "\n",
      "How can the agency make the most of its limited resources? "
     ]
    },
    {
     "cell_type": "heading",
     "level": 3,
     "metadata": {},
     "source": [
      "The Goal:"
     ]
    },
    {
     "cell_type": "heading",
     "level": 5,
     "metadata": {},
     "source": [
      "Use OSHA data to build a tool that will help the agency develop targeting schemas for outreach, training, enforcement, and regulation."
     ]
    },
    {
     "cell_type": "heading",
     "level": 3,
     "metadata": {},
     "source": [
      "The Hypotheses:"
     ]
    },
    {
     "cell_type": "heading",
     "level": 5,
     "metadata": {},
     "source": [
      "1. Variation by state or area - Maybe fewer workers are being killed in State X while more workers are being killed in State Y? Or certain field offices are more overwhelmed than others?\n"
     ]
    },
    {
     "cell_type": "heading",
     "level": 5,
     "metadata": {},
     "source": [
      "2. Impact of the recession -  Are there fewer fatalities in construction because of the housing market collapse? Has the recession depressed the number of worker fatalities, artificially diminishing the impact of hazardous workplaces?\n"
     ]
    },
    {
     "cell_type": "heading",
     "level": 5,
     "metadata": {},
     "source": [
      "3. Time of year - Are many of the most hazardous jobs seasonal?\n"
     ]
    },
    {
     "cell_type": "heading",
     "level": 5,
     "metadata": {},
     "source": [
      "4. Industries are changing - As hazards decrease in some traditional industries (e.g. traditional manufacturing), are more workers  being killed in new industries (e.g. green energy)?\n"
     ]
    },
    {
     "cell_type": "heading",
     "level": 3,
     "metadata": {},
     "source": [
      "The Data: "
     ]
    },
    {
     "cell_type": "heading",
     "level": 5,
     "metadata": {},
     "source": [
      "The primary data sources are the OSHA website (http://www.osha.gov) and the Department of Labor Enforcement Data Catalog (http://ogesdw.dol.gov/)."
     ]
    },
    {
     "cell_type": "heading",
     "level": 4,
     "metadata": {},
     "source": [
      "Understanding Workplace Fatality/Catastrophe Data"
     ]
    },
    {
     "cell_type": "code",
     "collapsed": false,
     "input": [
      "import numpy as np\n",
      "import pandas as pd\n",
      "import matplotlib.pyplot as plt\n",
      "import statsmodels.formula.api as sm\n",
      "from sklearn.linear_model import LinearRegression\n",
      "from scipy import stats\n",
      "%matplotlib inline"
     ],
     "language": "python",
     "metadata": {},
     "outputs": [],
     "prompt_number": 1
    },
    {
     "cell_type": "heading",
     "level": 6,
     "metadata": {},
     "source": [
      "What does the dataset look like?"
     ]
    },
    {
     "cell_type": "code",
     "collapsed": false,
     "input": [
      "oshadata = pd.read_csv(\"incidents_by_year.csv\", index_col=\"event_year\")\n",
      "oshadata[:5]"
     ],
     "language": "python",
     "metadata": {},
     "outputs": [
      {
       "output_type": "stream",
       "stream": "stderr",
       "text": [
        "/Library/Python/2.7/site-packages/pandas/io/parsers.py:1154: DtypeWarning: Columns (4) have mixed types. Specify dtype option on import or set low_memory=False.\n",
        "  data = self._reader.read(nrows)\n"
       ]
      },
      {
       "html": [
        "<div style=\"max-height:1000px;max-width:1500px;overflow:auto;\">\n",
        "<table border=\"1\" class=\"dataframe\">\n",
        "  <thead>\n",
        "    <tr style=\"text-align: right;\">\n",
        "      <th></th>\n",
        "      <th>area_office</th>\n",
        "      <th>state</th>\n",
        "      <th>fatality</th>\n",
        "      <th>industry_code</th>\n",
        "      <th>description</th>\n",
        "      <th>keywords</th>\n",
        "      <th>summary_nr</th>\n",
        "    </tr>\n",
        "    <tr>\n",
        "      <th>event_year</th>\n",
        "      <th></th>\n",
        "      <th></th>\n",
        "      <th></th>\n",
        "      <th></th>\n",
        "      <th></th>\n",
        "      <th></th>\n",
        "      <th></th>\n",
        "    </tr>\n",
        "  </thead>\n",
        "  <tbody>\n",
        "    <tr>\n",
        "      <th>1972</th>\n",
        "      <td> 854910</td>\n",
        "      <td>          UTAH</td>\n",
        "      <td>  NaN</td>\n",
        "      <td> 7359</td>\n",
        "      <td> Employee suffers partial thumb amputation in t...</td>\n",
        "      <td>    SLIP,TABLE SAW,AMPUTATED,THUMB,GUARD,BLADE,SAW</td>\n",
        "      <td> 170683817</td>\n",
        "    </tr>\n",
        "    <tr>\n",
        "      <th>1973</th>\n",
        "      <td> 524700</td>\n",
        "      <td>          OHIO</td>\n",
        "      <td> True</td>\n",
        "      <td> 3444</td>\n",
        "      <td>    Employee fatally crushed by falling automobile</td>\n",
        "      <td> CRUSHED,STRUCK BY,FALLING OBJECT,AUTOMOBILE,BO...</td>\n",
        "      <td>  14514202</td>\n",
        "    </tr>\n",
        "    <tr>\n",
        "      <th>1973</th>\n",
        "      <td> 316400</td>\n",
        "      <td> WEST VIRGINIA</td>\n",
        "      <td> True</td>\n",
        "      <td> 3334</td>\n",
        "      <td>   Employee killed while dismantling crane gearbox</td>\n",
        "      <td> DISMANTLING,CRANE,STRUCK BY,FALL,CRUSHED,UNTRA...</td>\n",
        "      <td>  14481709</td>\n",
        "    </tr>\n",
        "    <tr>\n",
        "      <th>1974</th>\n",
        "      <td> 627400</td>\n",
        "      <td>         TEXAS</td>\n",
        "      <td> True</td>\n",
        "      <td> 1381</td>\n",
        "      <td> One employee killed, two injured when struck b...</td>\n",
        "      <td> OIL WELL DRILLING,TONGS,STRUCK BY,HAND TOOL,FL...</td>\n",
        "      <td>  14413066</td>\n",
        "    </tr>\n",
        "    <tr>\n",
        "      <th>1974</th>\n",
        "      <td> 627400</td>\n",
        "      <td>         TEXAS</td>\n",
        "      <td> True</td>\n",
        "      <td> 1381</td>\n",
        "      <td>             Employee killed in trailer house fire</td>\n",
        "      <td> FIRE,BURN,SMOKING,FLAMMABLE VAPORS,OIL WELL DR...</td>\n",
        "      <td>  14413074</td>\n",
        "    </tr>\n",
        "  </tbody>\n",
        "</table>\n",
        "</div>"
       ],
       "metadata": {},
       "output_type": "pyout",
       "prompt_number": 2,
       "text": [
        "            area_office          state fatality industry_code  \\\n",
        "event_year                                                      \n",
        "1972             854910           UTAH      NaN          7359   \n",
        "1973             524700           OHIO     True          3444   \n",
        "1973             316400  WEST VIRGINIA     True          3334   \n",
        "1974             627400          TEXAS     True          1381   \n",
        "1974             627400          TEXAS     True          1381   \n",
        "\n",
        "                                                  description  \\\n",
        "event_year                                                      \n",
        "1972        Employee suffers partial thumb amputation in t...   \n",
        "1973           Employee fatally crushed by falling automobile   \n",
        "1973          Employee killed while dismantling crane gearbox   \n",
        "1974        One employee killed, two injured when struck b...   \n",
        "1974                    Employee killed in trailer house fire   \n",
        "\n",
        "                                                     keywords  summary_nr  \n",
        "event_year                                                                 \n",
        "1972           SLIP,TABLE SAW,AMPUTATED,THUMB,GUARD,BLADE,SAW   170683817  \n",
        "1973        CRUSHED,STRUCK BY,FALLING OBJECT,AUTOMOBILE,BO...    14514202  \n",
        "1973        DISMANTLING,CRANE,STRUCK BY,FALL,CRUSHED,UNTRA...    14481709  \n",
        "1974        OIL WELL DRILLING,TONGS,STRUCK BY,HAND TOOL,FL...    14413066  \n",
        "1974        FIRE,BURN,SMOKING,FLAMMABLE VAPORS,OIL WELL DR...    14413074  "
       ]
      }
     ],
     "prompt_number": 2
    },
    {
     "cell_type": "heading",
     "level": 5,
     "metadata": {},
     "source": [
      "Yeah, but what does it LOOK like? Let's check out a visualization of these incidents as a time series."
     ]
    },
    {
     "cell_type": "code",
     "collapsed": false,
     "input": [
      "df = pd.DataFrame.from_csv('incident_totals_year.csv', parse_dates=False)\n",
      "df.osha_incidents.plot(color='r',lw=1.3)\n",
      "plt.title('Workplace Fatalities and Catastrophes by Year')\n",
      "plt.xlabel(\"1983-2012\")\n",
      "plt.ylabel(\"Fatal/Catastrophic Incidents\")\n",
      "plt.show()"
     ],
     "language": "python",
     "metadata": {},
     "outputs": [
      {
       "metadata": {},
       "output_type": "display_data",
       "png": "[encoded data removed]",
       "text": [
        "<matplotlib.figure.Figure at 0x1126dca90>"
       ]
      }
     ],
     "prompt_number": 3
    },
    {
     "cell_type": "heading",
     "level": 6,
     "metadata": {},
     "source": [
      "It turns out that, because of irregularities in the way that these reports were logged before 1990, we should ignore what appears to be a trend in volume from 1983-1990. We know from the Bureau of Labor Statistics that there were actually more like 10,000 fatalities per year during that period. The graph also suggests that fatal events trail off after 2009, but it turns our that this is due to data maturation issues. BLS reports show that the number of fatal workplace incidents has been fairly steady at around 4,500 per year since 2010."
     ]
    },
    {
     "cell_type": "heading",
     "level": 6,
     "metadata": {},
     "source": [
      "So let's do a histogram to see the frequency of events by year, but we'll just focus in on 1990-2010"
     ]
    },
    {
     "cell_type": "code",
     "collapsed": false,
     "input": [
      "subset = df.loc[1990:2010]\n",
      "subset.plot(kind='bar', stacked=False)\n",
      "plt.title(\"Frequency of fatalities and catastrophic events by year\")\n",
      "plt.xlabel(\"1990-2010\")\n",
      "plt.ylabel(\"Frequency\")\n",
      "plt.show()"
     ],
     "language": "python",
     "metadata": {},
     "outputs": [
      {
       "metadata": {},
       "output_type": "display_data",
       "png": "[encoded data removed]",
       "text": [
        "<matplotlib.figure.Figure at 0x10f01f150>"
       ]
      }
     ],
     "prompt_number": 4
    },
    {
     "cell_type": "heading",
     "level": 3,
     "metadata": {},
     "source": [
      "The Analysis:"
     ]
    },
    {
     "cell_type": "heading",
     "level": 5,
     "metadata": {},
     "source": [
      "Hypothesis One (Rebecca): Understanding Regional Variations in Workplace Fatality/Catastrophe Data"
     ]
    },
    {
     "cell_type": "heading",
     "level": 6,
     "metadata": {},
     "source": [
      "One of our hypotheses about the data is that there may be significant regional variation in the incidence of workplace fatalities and catastrophes. By getting a sense of where the most workers are dying by location, we could assist OSHA in directing more staff and resources to the most dangerous parts of the country. "
     ]
    },
    {
     "cell_type": "heading",
     "level": 6,
     "metadata": {},
     "source": [
      "To test this hypothesis, we can analyze our data in several ways. We can look at the frequency of events by state, or at a more granular level, by area office."
     ]
    },
    {
     "cell_type": "heading",
     "level": 6,
     "metadata": {},
     "source": [
      "Let's start by looking at variations by state"
     ]
    },
    {
     "cell_type": "code",
     "collapsed": false,
     "input": [
      "statedata = pd.read_csv(\"incidents_state_totals.csv\")\n",
      "statedata"
     ],
     "language": "python",
     "metadata": {},
     "outputs": [
      {
       "html": [
        "<div style=\"max-height:1000px;max-width:1500px;overflow:auto;\">\n",
        "<table border=\"1\" class=\"dataframe\">\n",
        "  <thead>\n",
        "    <tr style=\"text-align: right;\">\n",
        "      <th></th>\n",
        "      <th>state</th>\n",
        "      <th>totals</th>\n",
        "    </tr>\n",
        "  </thead>\n",
        "  <tbody>\n",
        "    <tr>\n",
        "      <th>0 </th>\n",
        "      <td>              ALABAMA</td>\n",
        "      <td>  1115</td>\n",
        "    </tr>\n",
        "    <tr>\n",
        "      <th>1 </th>\n",
        "      <td>               ALASKA</td>\n",
        "      <td>   446</td>\n",
        "    </tr>\n",
        "    <tr>\n",
        "      <th>2 </th>\n",
        "      <td>              ARIZONA</td>\n",
        "      <td>  1307</td>\n",
        "    </tr>\n",
        "    <tr>\n",
        "      <th>3 </th>\n",
        "      <td>             ARKANSAS</td>\n",
        "      <td>   722</td>\n",
        "    </tr>\n",
        "    <tr>\n",
        "      <th>4 </th>\n",
        "      <td>           CALIFORNIA</td>\n",
        "      <td> 38477</td>\n",
        "    </tr>\n",
        "    <tr>\n",
        "      <th>5 </th>\n",
        "      <td>             COLORADO</td>\n",
        "      <td>   848</td>\n",
        "    </tr>\n",
        "    <tr>\n",
        "      <th>6 </th>\n",
        "      <td>          CONNECTICUT</td>\n",
        "      <td>  1065</td>\n",
        "    </tr>\n",
        "    <tr>\n",
        "      <th>7 </th>\n",
        "      <td>             DELAWARE</td>\n",
        "      <td>   125</td>\n",
        "    </tr>\n",
        "    <tr>\n",
        "      <th>8 </th>\n",
        "      <td> DISTRICT OF COLUMBIA</td>\n",
        "      <td>    33</td>\n",
        "    </tr>\n",
        "    <tr>\n",
        "      <th>9 </th>\n",
        "      <td>              FLORIDA</td>\n",
        "      <td>  3225</td>\n",
        "    </tr>\n",
        "    <tr>\n",
        "      <th>10</th>\n",
        "      <td>              GEORGIA</td>\n",
        "      <td>  1828</td>\n",
        "    </tr>\n",
        "    <tr>\n",
        "      <th>11</th>\n",
        "      <td>               HAWAII</td>\n",
        "      <td>   395</td>\n",
        "    </tr>\n",
        "    <tr>\n",
        "      <th>12</th>\n",
        "      <td>                IDAHO</td>\n",
        "      <td>   417</td>\n",
        "    </tr>\n",
        "    <tr>\n",
        "      <th>13</th>\n",
        "      <td>             ILLINOIS</td>\n",
        "      <td>  2553</td>\n",
        "    </tr>\n",
        "    <tr>\n",
        "      <th>14</th>\n",
        "      <td>              INDIANA</td>\n",
        "      <td>  1724</td>\n",
        "    </tr>\n",
        "    <tr>\n",
        "      <th>15</th>\n",
        "      <td>                 IOWA</td>\n",
        "      <td>  1779</td>\n",
        "    </tr>\n",
        "    <tr>\n",
        "      <th>16</th>\n",
        "      <td>               KANSAS</td>\n",
        "      <td>  1396</td>\n",
        "    </tr>\n",
        "    <tr>\n",
        "      <th>17</th>\n",
        "      <td>             KENTUCKY</td>\n",
        "      <td>  1029</td>\n",
        "    </tr>\n",
        "    <tr>\n",
        "      <th>18</th>\n",
        "      <td>            LOUISIANA</td>\n",
        "      <td>  1257</td>\n",
        "    </tr>\n",
        "    <tr>\n",
        "      <th>19</th>\n",
        "      <td>                MAINE</td>\n",
        "      <td>   274</td>\n",
        "    </tr>\n",
        "    <tr>\n",
        "      <th>20</th>\n",
        "      <td>             MARYLAND</td>\n",
        "      <td>  3908</td>\n",
        "    </tr>\n",
        "    <tr>\n",
        "      <th>21</th>\n",
        "      <td>        MASSACHUSETTS</td>\n",
        "      <td>  1491</td>\n",
        "    </tr>\n",
        "    <tr>\n",
        "      <th>22</th>\n",
        "      <td>             MICHIGAN</td>\n",
        "      <td>  1485</td>\n",
        "    </tr>\n",
        "    <tr>\n",
        "      <th>23</th>\n",
        "      <td>            MINNESOTA</td>\n",
        "      <td>   885</td>\n",
        "    </tr>\n",
        "    <tr>\n",
        "      <th>24</th>\n",
        "      <td>          MISSISSIPPI</td>\n",
        "      <td>   690</td>\n",
        "    </tr>\n",
        "    <tr>\n",
        "      <th>25</th>\n",
        "      <td>             MISSOURI</td>\n",
        "      <td>   879</td>\n",
        "    </tr>\n",
        "    <tr>\n",
        "      <th>26</th>\n",
        "      <td>              MONTANA</td>\n",
        "      <td>   273</td>\n",
        "    </tr>\n",
        "    <tr>\n",
        "      <th>27</th>\n",
        "      <td>             NEBRASKA</td>\n",
        "      <td>   615</td>\n",
        "    </tr>\n",
        "    <tr>\n",
        "      <th>28</th>\n",
        "      <td>               NEVADA</td>\n",
        "      <td>  1042</td>\n",
        "    </tr>\n",
        "    <tr>\n",
        "      <th>29</th>\n",
        "      <td>        NEW HAMPSHIRE</td>\n",
        "      <td>   386</td>\n",
        "    </tr>\n",
        "    <tr>\n",
        "      <th>30</th>\n",
        "      <td>           NEW JERSEY</td>\n",
        "      <td>  1754</td>\n",
        "    </tr>\n",
        "    <tr>\n",
        "      <th>31</th>\n",
        "      <td>           NEW MEXICO</td>\n",
        "      <td>   350</td>\n",
        "    </tr>\n",
        "    <tr>\n",
        "      <th>32</th>\n",
        "      <td>             NEW YORK</td>\n",
        "      <td>  2928</td>\n",
        "    </tr>\n",
        "    <tr>\n",
        "      <th>33</th>\n",
        "      <td>       NORTH CAROLINA</td>\n",
        "      <td>  2833</td>\n",
        "    </tr>\n",
        "    <tr>\n",
        "      <th>34</th>\n",
        "      <td>         NORTH DAKOTA</td>\n",
        "      <td>   421</td>\n",
        "    </tr>\n",
        "    <tr>\n",
        "      <th>35</th>\n",
        "      <td>                 OHIO</td>\n",
        "      <td>  2630</td>\n",
        "    </tr>\n",
        "    <tr>\n",
        "      <th>36</th>\n",
        "      <td>             OKLAHOMA</td>\n",
        "      <td>   768</td>\n",
        "    </tr>\n",
        "    <tr>\n",
        "      <th>37</th>\n",
        "      <td>               OREGON</td>\n",
        "      <td>  4052</td>\n",
        "    </tr>\n",
        "    <tr>\n",
        "      <th>38</th>\n",
        "      <td>         PENNSYLVANIA</td>\n",
        "      <td>  1961</td>\n",
        "    </tr>\n",
        "    <tr>\n",
        "      <th>39</th>\n",
        "      <td>         RHODE ISLAND</td>\n",
        "      <td>   156</td>\n",
        "    </tr>\n",
        "    <tr>\n",
        "      <th>40</th>\n",
        "      <td>       SOUTH CAROLINA</td>\n",
        "      <td>  1591</td>\n",
        "    </tr>\n",
        "    <tr>\n",
        "      <th>41</th>\n",
        "      <td>         SOUTH DAKOTA</td>\n",
        "      <td>     0</td>\n",
        "    </tr>\n",
        "    <tr>\n",
        "      <th>42</th>\n",
        "      <td>            TENNESSEE</td>\n",
        "      <td>  1268</td>\n",
        "    </tr>\n",
        "    <tr>\n",
        "      <th>43</th>\n",
        "      <td>                TEXAS</td>\n",
        "      <td>  4728</td>\n",
        "    </tr>\n",
        "    <tr>\n",
        "      <th>44</th>\n",
        "      <td>                 UTAH</td>\n",
        "      <td>  1580</td>\n",
        "    </tr>\n",
        "    <tr>\n",
        "      <th>45</th>\n",
        "      <td>              VERMONT</td>\n",
        "      <td>   159</td>\n",
        "    </tr>\n",
        "    <tr>\n",
        "      <th>46</th>\n",
        "      <td>             VIRGINIA</td>\n",
        "      <td>  2402</td>\n",
        "    </tr>\n",
        "    <tr>\n",
        "      <th>47</th>\n",
        "      <td>           WASHINGTON</td>\n",
        "      <td>  2173</td>\n",
        "    </tr>\n",
        "    <tr>\n",
        "      <th>48</th>\n",
        "      <td>        WEST VIRGINIA</td>\n",
        "      <td>   440</td>\n",
        "    </tr>\n",
        "    <tr>\n",
        "      <th>49</th>\n",
        "      <td>            WISCONSIN</td>\n",
        "      <td>  1167</td>\n",
        "    </tr>\n",
        "    <tr>\n",
        "      <th>50</th>\n",
        "      <td>              WYOMING</td>\n",
        "      <td>   276</td>\n",
        "    </tr>\n",
        "  </tbody>\n",
        "</table>\n",
        "</div>"
       ],
       "metadata": {},
       "output_type": "pyout",
       "prompt_number": 5,
       "text": [
        "                   state  totals\n",
        "0                ALABAMA    1115\n",
        "1                 ALASKA     446\n",
        "2                ARIZONA    1307\n",
        "3               ARKANSAS     722\n",
        "4             CALIFORNIA   38477\n",
        "5               COLORADO     848\n",
        "6            CONNECTICUT    1065\n",
        "7               DELAWARE     125\n",
        "8   DISTRICT OF COLUMBIA      33\n",
        "9                FLORIDA    3225\n",
        "10               GEORGIA    1828\n",
        "11                HAWAII     395\n",
        "12                 IDAHO     417\n",
        "13              ILLINOIS    2553\n",
        "14               INDIANA    1724\n",
        "15                  IOWA    1779\n",
        "16                KANSAS    1396\n",
        "17              KENTUCKY    1029\n",
        "18             LOUISIANA    1257\n",
        "19                 MAINE     274\n",
        "20              MARYLAND    3908\n",
        "21         MASSACHUSETTS    1491\n",
        "22              MICHIGAN    1485\n",
        "23             MINNESOTA     885\n",
        "24           MISSISSIPPI     690\n",
        "25              MISSOURI     879\n",
        "26               MONTANA     273\n",
        "27              NEBRASKA     615\n",
        "28                NEVADA    1042\n",
        "29         NEW HAMPSHIRE     386\n",
        "30            NEW JERSEY    1754\n",
        "31            NEW MEXICO     350\n",
        "32              NEW YORK    2928\n",
        "33        NORTH CAROLINA    2833\n",
        "34          NORTH DAKOTA     421\n",
        "35                  OHIO    2630\n",
        "36              OKLAHOMA     768\n",
        "37                OREGON    4052\n",
        "38          PENNSYLVANIA    1961\n",
        "39          RHODE ISLAND     156\n",
        "40        SOUTH CAROLINA    1591\n",
        "41          SOUTH DAKOTA       0\n",
        "42             TENNESSEE    1268\n",
        "43                 TEXAS    4728\n",
        "44                  UTAH    1580\n",
        "45               VERMONT     159\n",
        "46              VIRGINIA    2402\n",
        "47            WASHINGTON    2173\n",
        "48         WEST VIRGINIA     440\n",
        "49             WISCONSIN    1167\n",
        "50               WYOMING     276"
       ]
      }
     ],
     "prompt_number": 5
    },
    {
     "cell_type": "code",
     "collapsed": false,
     "input": [
      "statedata.plot(kind='bar', stacked=False)\n",
      "plt.title(\"Frequency of fatalities and catastrophic events by state\")\n",
      "plt.xlabel(\"United States\")\n",
      "plt.ylabel(\"Frequency\")\n",
      "plt.show()"
     ],
     "language": "python",
     "metadata": {},
     "outputs": [
      {
       "metadata": {},
       "output_type": "display_data",
       "png": "[encoded data removed]",
       "text": [
        "<matplotlib.figure.Figure at 0x111e384d0>"
       ]
      }
     ],
     "prompt_number": 6
    },
    {
     "cell_type": "heading",
     "level": 6,
     "metadata": {},
     "source": [
      "So California is the clear standout in terms of sheer volume. Why is that? California is a state plan state, meaning that it is not under the jurisdiction of Federal OSHA, but that alone doesn't really explain why they would have so many more fatalities (or reports of fatalities)."
     ]
    },
    {
     "cell_type": "heading",
     "level": 6,
     "metadata": {},
     "source": [
      "And hmmm...something strange is definitely going on in South Dakota. Let's try to figure out why those reports are missing from this dataset."
     ]
    },
    {
     "cell_type": "heading",
     "level": 6,
     "metadata": {},
     "source": [
      "In any case, let's look a little deeper into the areas within the states where the most workers are dying on the job."
     ]
    },
    {
     "cell_type": "heading",
     "level": 5,
     "metadata": {},
     "source": [
      "Hypothesis Two (Bala): Examining the Relationship Between the Housing Market Collapse and Workplace Fatality/Catastrophe Data"
     ]
    },
    {
     "cell_type": "heading",
     "level": 5,
     "metadata": {},
     "source": [
      "Hypothesis Three (Awilda): Investigating the Seasonality of Workplace Fatalities and Catastrophes"
     ]
    },
    {
     "cell_type": "heading",
     "level": 5,
     "metadata": {},
     "source": [
      "Hypothesis Four (Faith): Exploring the Changing Industrial Landscape in Relation to Workplace Fatalities and Catastrophes"
     ]
    },
    {
     "cell_type": "heading",
     "level": 3,
     "metadata": {},
     "source": [
      "The Interpretations:"
     ]
    },
    {
     "cell_type": "heading",
     "level": 5,
     "metadata": {},
     "source": [
      "(to be added later)"
     ]
    },
    {
     "cell_type": "heading",
     "level": 3,
     "metadata": {},
     "source": [
      "The Conclusions:"
     ]
    },
    {
     "cell_type": "heading",
     "level": 5,
     "metadata": {},
     "source": [
      "(to be added later)"
     ]
    },
    {
     "cell_type": "code",
     "collapsed": false,
     "input": [],
     "language": "python",
     "metadata": {},
     "outputs": [],
     "prompt_number": 6
    }
   ],
   "metadata": {}
  }
 ]
}